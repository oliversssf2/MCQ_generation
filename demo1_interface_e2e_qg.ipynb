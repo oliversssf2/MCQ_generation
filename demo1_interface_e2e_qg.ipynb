{
 "cells": [
  {
   "cell_type": "code",
   "execution_count": 1,
   "metadata": {},
   "outputs": [],
   "source": [
    "import transformers\n",
    "import datasets\n",
    "import torch\n",
    "from nltk import sent_tokenize\n",
    "from helper_functions import _prepare_inputs_for_e2e_qg_from_answers_hl"
   ]
  },
  {
   "cell_type": "code",
   "execution_count": 2,
   "metadata": {},
   "outputs": [],
   "source": [
    "e2e_qg_model = transformers.AutoModelForSeq2SeqLM.from_pretrained('output_models/model_e2e_qg_hl_t5')\n",
    "tokenizer = transformers.AutoTokenizer.from_pretrained('tokenizers/t5_qg_tokenizer')"
   ]
  },
  {
   "cell_type": "code",
   "execution_count": 3,
   "metadata": {},
   "outputs": [],
   "source": [
    "# texts = [\"Architecturally, the school has a Catholic character. Atop the Main Building\\'s gold dome is a golden statue of the Virgin Mary. Immediately in front of the Main Building and facing it, is a copper statue of Christ with arms upraised with the legend \\\"Venite Ad Me Omnes\\\". Next to the Main Building is the Basilica of the Sacred Heart. Immediately behind the basilica is the Grotto, a Marian place of prayer and reflection. It is a replica of the grotto at Lourdes, France where the Virgin Mary reputedly appeared to Saint Bernadette Soubirous in 1858. At the end of the main drive (and in a direct line that connects through 3 statues and the Gold Dome), is a simple, modern stone statue of Mary.\"]\n",
    "\n",
    "def generate_e2e_question(texts):\n",
    "    texts = _prepare_inputs_for_e2e_qg_from_answers_hl([texts])\n",
    "    print(texts)\n",
    "\n",
    "    e2e_encodings = tokenizer.batch_encode_plus(texts, padding=True)\n",
    "\n",
    "    e2e_output_ids = e2e_qg_model.generate(\n",
    "        torch.tensor(e2e_encodings['input_ids']),\n",
    "        attention_mask = torch.tensor(e2e_encodings['attention_mask']),\n",
    "        max_length = 256,\n",
    "        num_beams = 4,\n",
    "        length_penalty = 1.4,\n",
    "        no_repeat_ngram_size=3,\n",
    "        early_stopping = True\n",
    "    )\n",
    "\n",
    "    e2e_question_texts = tokenizer.batch_decode(\n",
    "        e2e_output_ids,\n",
    "        skip_special_tokens=True,\n",
    "        clean_up_tokenization_spaces=True)\n",
    "    \n",
    "    e2e_question_texts=[q.replace('<sep>','') for q in e2e_question_texts]\n",
    "\n",
    "    output_text=''\n",
    "    for text in e2e_question_texts:\n",
    "        output_text = output_text + text + '\\n'\n",
    "\n",
    "    return output_text\n"
   ]
  },
  {
   "cell_type": "code",
   "execution_count": 4,
   "metadata": {},
   "outputs": [
    {
     "name": "stdout",
     "output_type": "stream",
     "text": [
      "Running locally at: http://127.0.0.1:7865/\n",
      "This share link will expire in 24 hours. If you need a permanent link, visit: https://gradio.app/introducing-hosted (NEW!)\n",
      "Running on External URL: https://32804.gradio.app\n",
      "Interface loading below...\n"
     ]
    },
    {
     "data": {
      "text/html": [
       "\n",
       "        <iframe\n",
       "            width=\"900\"\n",
       "            height=\"500\"\n",
       "            src=\"https://32804.gradio.app\"\n",
       "            frameborder=\"0\"\n",
       "            allowfullscreen\n",
       "        ></iframe>\n",
       "        "
      ],
      "text/plain": [
       "<IPython.lib.display.IFrame at 0x7ff4100ffc10>"
      ]
     },
     "metadata": {},
     "output_type": "display_data"
    },
    {
     "data": {
      "text/plain": [
       "(<Flask 'gradio.networking'>,\n",
       " 'http://127.0.0.1:7865/',\n",
       " 'https://32804.gradio.app')"
      ]
     },
     "execution_count": 4,
     "metadata": {},
     "output_type": "execute_result"
    }
   ],
   "source": [
    "import gradio as gr\n",
    "\n",
    "context_in = gr.inputs.Textbox(lines=20, label='Context')\n",
    "question_out = gr.outputs.Textbox()\n",
    "\n",
    "demo = gr.Interface(\n",
    "    generate_e2e_question,\n",
    "    context_in,\n",
    "    question_out,\n",
    "    theme='huggingface',\n",
    "    layout='horizontal',\n",
    "    title=\"E2E question generation based on T5\")\n",
    "\n",
    "demo.launch(share=True)"
   ]
  },
  {
   "cell_type": "code",
   "execution_count": null,
   "metadata": {},
   "outputs": [],
   "source": []
  }
 ],
 "metadata": {
  "interpreter": {
   "hash": "a2728d4017b7718a87d4e93500d1d4ca176ec38d68570f902a48894b5a81ea92"
  },
  "kernelspec": {
   "display_name": "Python 3.9.5 64-bit ('learn-qg': conda)",
   "name": "python3"
  },
  "language_info": {
   "codemirror_mode": {
    "name": "ipython",
    "version": 3
   },
   "file_extension": ".py",
   "mimetype": "text/x-python",
   "name": "python",
   "nbconvert_exporter": "python",
   "pygments_lexer": "ipython3",
   "version": "3.9.5"
  },
  "orig_nbformat": 4
 },
 "nbformat": 4,
 "nbformat_minor": 2
}