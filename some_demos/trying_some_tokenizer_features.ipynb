{
 "cells": [
  {
   "cell_type": "code",
   "execution_count": 3,
   "source": [
    "import tokenizers\n",
    "import transformers"
   ],
   "outputs": [],
   "metadata": {}
  },
  {
   "cell_type": "code",
   "execution_count": 4,
   "source": [
    "tokenizer = transformers.AutoTokenizer.from_pretrained('t5-base')\n",
    "print(tokenizer)"
   ],
   "outputs": [
    {
     "output_type": "stream",
     "name": "stderr",
     "text": [
      "2021-08-17 17:32:48.855627: I tensorflow/stream_executor/platform/default/dso_loader.cc:53] Successfully opened dynamic library libcudart.so.11.0\n"
     ]
    },
    {
     "output_type": "stream",
     "name": "stdout",
     "text": [
      "PreTrainedTokenizerFast(name_or_path='t5-base', vocab_size=32100, model_max_len=512, is_fast=True, padding_side='right', special_tokens={'eos_token': '</s>', 'unk_token': '<unk>', 'pad_token': '<pad>', 'additional_special_tokens': ['<extra_id_0>', '<extra_id_1>', '<extra_id_2>', '<extra_id_3>', '<extra_id_4>', '<extra_id_5>', '<extra_id_6>', '<extra_id_7>', '<extra_id_8>', '<extra_id_9>', '<extra_id_10>', '<extra_id_11>', '<extra_id_12>', '<extra_id_13>', '<extra_id_14>', '<extra_id_15>', '<extra_id_16>', '<extra_id_17>', '<extra_id_18>', '<extra_id_19>', '<extra_id_20>', '<extra_id_21>', '<extra_id_22>', '<extra_id_23>', '<extra_id_24>', '<extra_id_25>', '<extra_id_26>', '<extra_id_27>', '<extra_id_28>', '<extra_id_29>', '<extra_id_30>', '<extra_id_31>', '<extra_id_32>', '<extra_id_33>', '<extra_id_34>', '<extra_id_35>', '<extra_id_36>', '<extra_id_37>', '<extra_id_38>', '<extra_id_39>', '<extra_id_40>', '<extra_id_41>', '<extra_id_42>', '<extra_id_43>', '<extra_id_44>', '<extra_id_45>', '<extra_id_46>', '<extra_id_47>', '<extra_id_48>', '<extra_id_49>', '<extra_id_50>', '<extra_id_51>', '<extra_id_52>', '<extra_id_53>', '<extra_id_54>', '<extra_id_55>', '<extra_id_56>', '<extra_id_57>', '<extra_id_58>', '<extra_id_59>', '<extra_id_60>', '<extra_id_61>', '<extra_id_62>', '<extra_id_63>', '<extra_id_64>', '<extra_id_65>', '<extra_id_66>', '<extra_id_67>', '<extra_id_68>', '<extra_id_69>', '<extra_id_70>', '<extra_id_71>', '<extra_id_72>', '<extra_id_73>', '<extra_id_74>', '<extra_id_75>', '<extra_id_76>', '<extra_id_77>', '<extra_id_78>', '<extra_id_79>', '<extra_id_80>', '<extra_id_81>', '<extra_id_82>', '<extra_id_83>', '<extra_id_84>', '<extra_id_85>', '<extra_id_86>', '<extra_id_87>', '<extra_id_88>', '<extra_id_89>', '<extra_id_90>', '<extra_id_91>', '<extra_id_92>', '<extra_id_93>', '<extra_id_94>', '<extra_id_95>', '<extra_id_96>', '<extra_id_97>', '<extra_id_98>', '<extra_id_99>']})\n"
     ]
    }
   ],
   "metadata": {}
  },
  {
   "cell_type": "code",
   "execution_count": 21,
   "source": [
    "ids = tokenizer.encode_plus(\"haha\")\n",
    "ids\n"
   ],
   "outputs": [
    {
     "output_type": "execute_result",
     "data": {
      "text/plain": [
       "{'input_ids': [4244, 1024, 1], 'attention_mask': [1, 1, 1]}"
      ]
     },
     "metadata": {},
     "execution_count": 21
    }
   ],
   "metadata": {}
  },
  {
   "cell_type": "code",
   "execution_count": 18,
   "source": [
    "print('The max model input sizes of this model are {}'.format(\n",
    "    tokenizer.max_model_input_sizes))\n",
    "\n",
    "print('The vocab size of this model is {}'.format(\n",
    "    tokenizer.vocab_size))\n",
    "\n",
    "print('The speical tokens of this model are: ')\n",
    "for id, token in zip(tokenizer.all_special_ids, tokenizer.all_special_tokens):\n",
    "    print('{} : {}'.format(id, token))"
   ],
   "outputs": [
    {
     "output_type": "stream",
     "name": "stdout",
     "text": [
      "The max model input sizes of this model are {'t5-small': 512, 't5-base': 512, 't5-large': 512, 't5-3b': 512, 't5-11b': 512}\n",
      "The vocab size of this model is 32100\n",
      "The speical tokens of this model are: \n",
      "1 : </s>\n",
      "2 : <unk>\n",
      "0 : <pad>\n",
      "32099 : <extra_id_0>\n",
      "32098 : <extra_id_1>\n",
      "32097 : <extra_id_2>\n",
      "32096 : <extra_id_3>\n",
      "32095 : <extra_id_4>\n",
      "32094 : <extra_id_5>\n",
      "32093 : <extra_id_6>\n",
      "32092 : <extra_id_7>\n",
      "32091 : <extra_id_8>\n",
      "32090 : <extra_id_9>\n",
      "32089 : <extra_id_10>\n",
      "32088 : <extra_id_11>\n",
      "32087 : <extra_id_12>\n",
      "32086 : <extra_id_13>\n",
      "32085 : <extra_id_14>\n",
      "32084 : <extra_id_15>\n",
      "32083 : <extra_id_16>\n",
      "32082 : <extra_id_17>\n",
      "32081 : <extra_id_18>\n",
      "32080 : <extra_id_19>\n",
      "32079 : <extra_id_20>\n",
      "32078 : <extra_id_21>\n",
      "32077 : <extra_id_22>\n",
      "32076 : <extra_id_23>\n",
      "32075 : <extra_id_24>\n",
      "32074 : <extra_id_25>\n",
      "32073 : <extra_id_26>\n",
      "32072 : <extra_id_27>\n",
      "32071 : <extra_id_28>\n",
      "32070 : <extra_id_29>\n",
      "32069 : <extra_id_30>\n",
      "32068 : <extra_id_31>\n",
      "32067 : <extra_id_32>\n",
      "32066 : <extra_id_33>\n",
      "32065 : <extra_id_34>\n",
      "32064 : <extra_id_35>\n",
      "32063 : <extra_id_36>\n",
      "32062 : <extra_id_37>\n",
      "32061 : <extra_id_38>\n",
      "32060 : <extra_id_39>\n",
      "32059 : <extra_id_40>\n",
      "32058 : <extra_id_41>\n",
      "32057 : <extra_id_42>\n",
      "32056 : <extra_id_43>\n",
      "32055 : <extra_id_44>\n",
      "32054 : <extra_id_45>\n",
      "32053 : <extra_id_46>\n",
      "32052 : <extra_id_47>\n",
      "32051 : <extra_id_48>\n",
      "32050 : <extra_id_49>\n",
      "32049 : <extra_id_50>\n",
      "32048 : <extra_id_51>\n",
      "32047 : <extra_id_52>\n",
      "32046 : <extra_id_53>\n",
      "32045 : <extra_id_54>\n",
      "32044 : <extra_id_55>\n",
      "32043 : <extra_id_56>\n",
      "32042 : <extra_id_57>\n",
      "32041 : <extra_id_58>\n",
      "32040 : <extra_id_59>\n",
      "32039 : <extra_id_60>\n",
      "32038 : <extra_id_61>\n",
      "32037 : <extra_id_62>\n",
      "32036 : <extra_id_63>\n",
      "32035 : <extra_id_64>\n",
      "32034 : <extra_id_65>\n",
      "32033 : <extra_id_66>\n",
      "32032 : <extra_id_67>\n",
      "32031 : <extra_id_68>\n",
      "32030 : <extra_id_69>\n",
      "32029 : <extra_id_70>\n",
      "32028 : <extra_id_71>\n",
      "32027 : <extra_id_72>\n",
      "32026 : <extra_id_73>\n",
      "32025 : <extra_id_74>\n",
      "32024 : <extra_id_75>\n",
      "32023 : <extra_id_76>\n",
      "32022 : <extra_id_77>\n",
      "32021 : <extra_id_78>\n",
      "32020 : <extra_id_79>\n",
      "32019 : <extra_id_80>\n",
      "32018 : <extra_id_81>\n",
      "32017 : <extra_id_82>\n",
      "32016 : <extra_id_83>\n",
      "32015 : <extra_id_84>\n",
      "32014 : <extra_id_85>\n",
      "32013 : <extra_id_86>\n",
      "32012 : <extra_id_87>\n",
      "32011 : <extra_id_88>\n",
      "32010 : <extra_id_89>\n",
      "32009 : <extra_id_90>\n",
      "32008 : <extra_id_91>\n",
      "32007 : <extra_id_92>\n",
      "32006 : <extra_id_93>\n",
      "32005 : <extra_id_94>\n",
      "32004 : <extra_id_95>\n",
      "32003 : <extra_id_96>\n",
      "32002 : <extra_id_97>\n",
      "32001 : <extra_id_98>\n",
      "32000 : <extra_id_99>\n"
     ]
    }
   ],
   "metadata": {}
  },
  {
   "cell_type": "code",
   "execution_count": null,
   "source": [],
   "outputs": [],
   "metadata": {}
  }
 ],
 "metadata": {
  "orig_nbformat": 4,
  "language_info": {
   "name": "python",
   "version": "3.9.5",
   "mimetype": "text/x-python",
   "codemirror_mode": {
    "name": "ipython",
    "version": 3
   },
   "pygments_lexer": "ipython3",
   "nbconvert_exporter": "python",
   "file_extension": ".py"
  },
  "kernelspec": {
   "name": "python3",
   "display_name": "Python 3.9.5 64-bit ('learn-qg': conda)"
  },
  "interpreter": {
   "hash": "a2728d4017b7718a87d4e93500d1d4ca176ec38d68570f902a48894b5a81ea92"
  }
 },
 "nbformat": 4,
 "nbformat_minor": 2
}