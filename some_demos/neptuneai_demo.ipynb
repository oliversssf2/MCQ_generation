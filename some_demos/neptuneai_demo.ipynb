{
 "cells": [
  {
   "cell_type": "code",
   "execution_count": 1,
   "source": [
    "import neptune.new as neptune\n",
    "\n",
    "run = neptune.init(project='oliversssf2/qg-demo',\n",
    "                   api_token='eyJhcGlfYWRkcmVzcyI6Imh0dHBzOi8vYXBwLm5lcHR1bmUuYWkiLCJhcGlfdXJsIjoiaHR0cHM6Ly9hcHAubmVwdHVuZS5haSIsImFwaV9rZXkiOiI4NzljMjVhOS0xNzhhLTRmYTItYjYxMi0yNDZhNjcyNTdjMGUifQ==')\n",
    "                   \n",
    "\n",
    "# Track metadata and hyperparameters of your Run\n",
    "run[\"JIRA\"] = \"NPT-952\"\n",
    "run[\"algorithm\"] = \"ConvNet\"\n",
    "\n",
    "params = {\n",
    "    \"batch_size\": 64,\n",
    "    \"dropout\": 0.2,\n",
    "    \"learning_rate\": 0.001,\n",
    "    \"optimizer\": \"Adam\"\n",
    "}\n",
    "run[\"parameters\"] = params\n",
    "\n",
    "\n",
    "# Track the training process by logging your training metrics\n",
    "for epoch in range(100):\n",
    "    run[\"train/accuracy\"].log(epoch * 0.6)\n",
    "    run[\"train/loss\"].log(epoch * 0.4)\n",
    "\n",
    "# Log the final results\n",
    "run[\"f1_score\"] = 0.66\n",
    "\n",
    "# Stop logging to your Run\n",
    "run.stop()"
   ],
   "outputs": [
    {
     "output_type": "stream",
     "name": "stderr",
     "text": [
      "psutil is not installed. Hardware metrics will not be collected.\n"
     ]
    },
    {
     "output_type": "stream",
     "name": "stdout",
     "text": [
      "https://app.neptune.ai/oliversssf2/qg-demo/e/QGDEMO-1\n",
      "Remember to stop your run once you’ve finished logging your metadata (https://docs.neptune.ai/api-reference/run#stop). It will be stopped automatically only when the notebook kernel/interactive console is terminated.\n",
      "Shutting down background jobs, please wait a moment...\n",
      "Done!\n"
     ]
    },
    {
     "output_type": "stream",
     "name": "stderr",
     "text": [
      "Waiting for the remaining 18 operations to synchronize with Neptune. Do not kill this process.\n"
     ]
    },
    {
     "output_type": "stream",
     "name": "stdout",
     "text": [
      "All 18 operations synced, thanks for waiting!\n"
     ]
    }
   ],
   "metadata": {}
  }
 ],
 "metadata": {
  "orig_nbformat": 4,
  "language_info": {
   "name": "python",
   "version": "3.9.5",
   "mimetype": "text/x-python",
   "codemirror_mode": {
    "name": "ipython",
    "version": 3
   },
   "pygments_lexer": "ipython3",
   "nbconvert_exporter": "python",
   "file_extension": ".py"
  },
  "kernelspec": {
   "name": "python3",
   "display_name": "Python 3.9.5 64-bit ('learn-qg': conda)"
  },
  "interpreter": {
   "hash": "a2728d4017b7718a87d4e93500d1d4ca176ec38d68570f902a48894b5a81ea92"
  }
 },
 "nbformat": 4,
 "nbformat_minor": 2
}