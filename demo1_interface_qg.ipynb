{
 "cells": [
  {
   "cell_type": "code",
   "execution_count": 1,
   "metadata": {},
   "outputs": [],
   "source": [
    "import transformers\n",
    "import datasets\n",
    "import torch\n",
    "from nltk import sent_tokenize\n",
    "from helper_functions import _prepare_inputs_for_ans_extraction, _prepare_inputs_for_qg_from_answers_hl, get_sent_answer_list"
   ]
  },
  {
   "cell_type": "code",
   "execution_count": 2,
   "metadata": {},
   "outputs": [],
   "source": [
    "ans_ext_model = transformers.AutoModelForSeq2SeqLM.from_pretrained('output_models/model_ans_ext_hl_t5')\n",
    "qg_model = transformers.AutoModelForSeq2SeqLM.from_pretrained('output_models/model_qg_hl_t5')\n",
    "tokenizer = transformers.AutoTokenizer.from_pretrained('tokenizers/t5_qg_tokenizer')"
   ]
  },
  {
   "cell_type": "code",
   "execution_count": 3,
   "metadata": {},
   "outputs": [
    {
     "name": "stdout",
     "output_type": "stream",
     "text": [
      "Running locally at: http://127.0.0.1:7864/\n",
      "This share link will expire in 24 hours. If you need a permanent link, visit: https://gradio.app/introducing-hosted (NEW!)\n",
      "Running on External URL: https://39595.gradio.app\n",
      "Interface loading below...\n"
     ]
    },
    {
     "data": {
      "text/html": [
       "\n",
       "        <iframe\n",
       "            width=\"900\"\n",
       "            height=\"500\"\n",
       "            src=\"https://39595.gradio.app\"\n",
       "            frameborder=\"0\"\n",
       "            allowfullscreen\n",
       "        ></iframe>\n",
       "        "
      ],
      "text/plain": [
       "<IPython.lib.display.IFrame at 0x7fc4362aa910>"
      ]
     },
     "metadata": {},
     "output_type": "display_data"
    },
    {
     "data": {
      "text/plain": [
       "(<Flask 'gradio.networking'>,\n",
       " 'http://127.0.0.1:7864/',\n",
       " 'https://39595.gradio.app')"
      ]
     },
     "execution_count": 3,
     "metadata": {},
     "output_type": "execute_result"
    }
   ],
   "source": [
    "import gradio as gr\n",
    "\n",
    "def generate_answer_question_texts(text):\n",
    "    sents, answers = get_sent_answer_list(text, ans_ext_model, tokenizer)\n",
    "\n",
    "    ans_output_text = \"\"\n",
    "    for i, ans in enumerate(answers):\n",
    "        ans_output_text += \"{}: {}\\n\".format(i+1, ans)\n",
    "        # print(output_texts)\n",
    "    \n",
    "    # print(output_texts)\n",
    "\n",
    "    inputs = _prepare_inputs_for_qg_from_answers_hl(sents, answers)\n",
    "    qg_encodings = tokenizer.batch_encode_plus(inputs, padding=True)\n",
    "\n",
    "    output_ids = qg_model.generate(\n",
    "        torch.tensor(qg_encodings['input_ids']),\n",
    "        attention_mask = torch.tensor(qg_encodings['attention_mask']),\n",
    "        max_length = 32\n",
    "    )\n",
    "\n",
    "    question_texts = tokenizer.batch_decode(\n",
    "        output_ids, skip_special_tokens=True,clean_up_tokenization_spaces=True)\n",
    "\n",
    "    question_output_text = ''\n",
    "    for i, sent in enumerate(question_texts):\n",
    "        question_output_text += \"{}: {}\\n\".format(i+1, sent)\n",
    "        # print(output_texts)\n",
    "    return ans_output_text, question_output_text\n",
    "\n",
    "\n",
    "\n",
    "context_in = gr.inputs.Textbox(lines=20, label='Context')\n",
    "answers_out = gr.outputs.Textbox()\n",
    "question_out = gr.outputs.Textbox()\n",
    "\n",
    "demo = gr.Interface(\n",
    "    generate_answer_question_texts,\n",
    "    context_in,\n",
    "    [answers_out,question_out],\n",
    "    theme='huggingface',\n",
    "    layout='horizontal',\n",
    "    title=\"Answer extraction and question generation based on T5\")\n",
    "\n",
    "demo.launch(share=True)"
   ]
  },
  {
   "cell_type": "code",
   "execution_count": null,
   "metadata": {},
   "outputs": [],
   "source": []
  }
 ],
 "metadata": {
  "interpreter": {
   "hash": "a2728d4017b7718a87d4e93500d1d4ca176ec38d68570f902a48894b5a81ea92"
  },
  "kernelspec": {
   "display_name": "Python 3.9.5 64-bit ('learn-qg': conda)",
   "name": "python3"
  },
  "language_info": {
   "codemirror_mode": {
    "name": "ipython",
    "version": 3
   },
   "file_extension": ".py",
   "mimetype": "text/x-python",
   "name": "python",
   "nbconvert_exporter": "python",
   "pygments_lexer": "ipython3",
   "version": "3.9.5"
  },
  "orig_nbformat": 4
 },
 "nbformat": 4,
 "nbformat_minor": 2
}